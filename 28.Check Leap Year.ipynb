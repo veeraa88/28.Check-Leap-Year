{
 "cells": [
  {
   "cell_type": "code",
   "execution_count": null,
   "id": "4c6a93e4-d11b-4d32-82be-de420ad3bb93",
   "metadata": {},
   "outputs": [],
   "source": [
    "## Check Leap Year"
   ]
  },
  {
   "cell_type": "code",
   "execution_count": 7,
   "id": "30d640a2-7ffe-49be-b7ff-2f40e11da67d",
   "metadata": {},
   "outputs": [
    {
     "name": "stdin",
     "output_type": "stream",
     "text": [
      "Enter year to cheak 4\n"
     ]
    },
    {
     "name": "stdout",
     "output_type": "stream",
     "text": [
      "4 is leap year\n"
     ]
    }
   ],
   "source": [
    "year=int(input(\"Enter year to cheak\"))\n",
    "if year%400==0 and year%100==0 :\n",
    "    print(f\"{year} is leap year\")\n",
    "elif year%4==0 and year%100!=0:\n",
    "    print(f\"{year} is leap year\")\n",
    "else:\n",
    "    print(f\"{year} is not a leap year\")\n",
    "    "
   ]
  },
  {
   "cell_type": "code",
   "execution_count": null,
   "id": "dee7ae8d-dbfc-494e-836a-5cc610994f64",
   "metadata": {},
   "outputs": [],
   "source": []
  },
  {
   "cell_type": "code",
   "execution_count": null,
   "id": "57f6a518-01d9-4777-b06a-52636dbabdbe",
   "metadata": {},
   "outputs": [],
   "source": []
  }
 ],
 "metadata": {
  "kernelspec": {
   "display_name": "Python [conda env:base] *",
   "language": "python",
   "name": "conda-base-py"
  },
  "language_info": {
   "codemirror_mode": {
    "name": "ipython",
    "version": 3
   },
   "file_extension": ".py",
   "mimetype": "text/x-python",
   "name": "python",
   "nbconvert_exporter": "python",
   "pygments_lexer": "ipython3",
   "version": "3.12.7"
  }
 },
 "nbformat": 4,
 "nbformat_minor": 5
}
